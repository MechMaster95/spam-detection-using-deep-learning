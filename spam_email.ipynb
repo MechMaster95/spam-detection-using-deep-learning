{
 "cells": [
  {
   "cell_type": "code",
   "execution_count": null,
   "metadata": {},
   "outputs": [],
   "source": [
    "from keras.preprocessing import sequence\n",
    "from keras.utils import to_categorical\n",
    "from keras.models import Model, load_model\n",
    "from keras.layers import Conv1D, Dropout, Dense, Input, Embedding, MaxPooling1D, Flatten, BatchNormalization, Activation\n",
    "from keras.callbacks import ModelCheckpoint\n",
    "from sklearn.model_selection import train_test_split\n",
    "\n",
    "import mxnet as mx\n",
    "from mxnet import gluon\n",
    "\n",
    "import pickle\n",
    "import numpy as np"
   ]
  },
  {
   "cell_type": "code",
   "execution_count": null,
   "metadata": {
    "collapsed": true
   },
   "outputs": [],
   "source": [
    "MAX_WORDS_IN_SEQ = 3000\n",
    "EMBED_DIM = 32\n",
    "MODEL_PATH = \"models/spam_detect_char\""
   ]
  },
  {
   "cell_type": "code",
   "execution_count": null,
   "metadata": {},
   "outputs": [],
   "source": [
    "with open(\"data/dataset.pkl\", 'rb') as f:\n",
    "    sequences, labels, word2index = pickle.load(f)\n",
    "    \n",
    "num_words = len(word2index)\n",
    "print(f\"Found {num_words} unique tokens\")"
   ]
  },
  {
   "cell_type": "code",
   "execution_count": null,
   "metadata": {},
   "outputs": [],
   "source": [
    "data = sequence.pad_sequences(sequences, maxlen=MAX_WORDS_IN_SEQ, padding='post', truncating='post')\n",
    "targets = to_categorical(labels)"
   ]
  },
  {
   "cell_type": "code",
   "execution_count": null,
   "metadata": {},
   "outputs": [],
   "source": [
    "print('Shape of data tensor:', data.shape)\n",
    "print('Shape of label tensor:', targets.shape)\n",
    "x_train, x_test, y_train, y_test = train_test_split(data, targets, test_size=0.25)"
   ]
  },
  {
   "cell_type": "code",
   "execution_count": null,
   "metadata": {},
   "outputs": [],
   "source": [
    "input_seq = Input(shape=[MAX_WORDS_IN_SEQ, ], dtype='int32')\n",
    "embed_seq = Embedding(num_words, EMBED_DIM, input_length=MAX_WORDS_IN_SEQ)(\n",
    "    input_seq)\n",
    "conv_1 = Conv1D(128, 5)(embed_seq)\n",
    "conv_1 = BatchNormalization()(conv_1)\n",
    "conv_1 = Activation(activation='relu')(conv_1)\n",
    "conv_1 = MaxPooling1D(pool_size=5)(conv_1)\n",
    "\n",
    "conv_2 = Conv1D(128, 5)(conv_1)\n",
    "conv_2 = BatchNormalization()(conv_2)\n",
    "conv_2 = Activation(activation='relu')(conv_2)\n",
    "conv_2 = MaxPooling1D(pool_size=5)(conv_2)\n",
    "\n",
    "conv_3 = Conv1D(128, 5)(conv_2)\n",
    "conv_3 = BatchNormalization()(conv_3)\n",
    "conv_3 = Activation(activation='relu')(conv_3)\n",
    "conv_3 = MaxPooling1D(pool_size=35)(conv_3)\n",
    "\n",
    "flat = Flatten()(conv_3)\n",
    "flat = Dropout(0.25)(flat)\n",
    "fc1 = Dense(128, activation='relu')(flat)\n",
    "dense_1 = Dropout(0.25)(flat)\n",
    "fc2 = Dense(2, activation='softmax')(fc1)\n",
    "\n",
    "model = Model(input_seq, fc2)\n",
    "model.compile(optimizer='adam', loss='categorical_crossentropy', metrics=['acc'])"
   ]
  },
  {
   "cell_type": "code",
   "execution_count": null,
   "metadata": {},
   "outputs": [],
   "source": [
    "model.fit(\n",
    "    x_train,\n",
    "    y_train,\n",
    "    batch_size=128,\n",
    "    epochs=2,\n",
    "    callbacks=[ModelCheckpoint(MODEL_PATH, save_best_only=True)],\n",
    "    validation_data=[x_test, y_test]\n",
    ")"
   ]
  },
  {
   "cell_type": "code",
   "execution_count": null,
   "metadata": {},
   "outputs": [],
   "source": [
    "model.layers[7].output_shape"
   ]
  },
  {
   "cell_type": "code",
   "execution_count": null,
   "metadata": {
    "collapsed": true
   },
   "outputs": [],
   "source": []
  }
 ],
 "metadata": {
  "kernelspec": {
   "display_name": "Python 3",
   "language": "python",
   "name": "python3"
  },
  "language_info": {
   "codemirror_mode": {
    "name": "ipython",
    "version": 3
   },
   "file_extension": ".py",
   "mimetype": "text/x-python",
   "name": "python",
   "nbconvert_exporter": "python",
   "pygments_lexer": "ipython3",
   "version": "3.6.3"
  }
 },
 "nbformat": 4,
 "nbformat_minor": 2
}
